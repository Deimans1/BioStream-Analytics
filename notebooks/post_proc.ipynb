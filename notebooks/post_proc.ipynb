{
 "cells": [
  {
   "cell_type": "code",
   "execution_count": 7,
   "metadata": {},
   "outputs": [],
   "source": [
    "import pandas as pd\n",
    "from itertools import combinations\n",
    "\n",
    "pd.set_option('display.max_rows', None)\n",
    "pd.set_option('display.max_columns', None)\n",
    "pd.set_option('display.expand_frame_repr', False)\n",
    "pd.options.mode.chained_assignment = None"
   ]
  },
  {
   "cell_type": "code",
   "execution_count": 8,
   "metadata": {},
   "outputs": [],
   "source": [
    "def jaccard_similarity(list1, list2):\n",
    "    set1 = set(list1)\n",
    "    set2 = set(list2)\n",
    "    intersection = set1.intersection(set2)\n",
    "    union = set1.union(set2)\n",
    "    \n",
    "    # Include an additional condition for a single item difference\n",
    "    if abs(len(set1) - len(set2)) <= 2:\n",
    "        return len(intersection) / len(union)\n",
    "    else:\n",
    "        return 0\n",
    "\n",
    "def find_most_similar_lists(lists):\n",
    "    max_similarity = 0\n",
    "    most_similar_lists = None\n",
    "    \n",
    "    for pair in combinations(lists, 2):\n",
    "        list1, list2 = pair\n",
    "        similarity = jaccard_similarity(list1, list2)\n",
    "        \n",
    "        if similarity > max_similarity:\n",
    "            max_similarity = similarity\n",
    "            most_similar_lists = pair\n",
    "    \n",
    "    return most_similar_lists"
   ]
  },
  {
   "cell_type": "code",
   "execution_count": 9,
   "metadata": {},
   "outputs": [
    {
     "name": "stdout",
     "output_type": "stream",
     "text": [
      "(4016, 7)\n",
      "Remaining lists:\n",
      "(382, 7)\n",
      "(96, 7)\n"
     ]
    }
   ],
   "source": [
    "data = pd.read_csv(fr'Run_3_FERM\\All_data_metrics_main.csv')\n",
    "data.drop(columns='Test_ID', inplace=True)\n",
    "print(data.shape)\n",
    "data.sort_values('MAE', axis=0, inplace=True)\n",
    "savedInputs = data.apply(lambda row: eval(row['Inputs']), axis=1).tolist()\n",
    "\n",
    "for n, row in enumerate(savedInputs[:-1]):\n",
    "    for idx, row2 in enumerate(savedInputs[n+1:]):\n",
    "        if set(row).issubset(set(row2)) or set(row2) <= set(row):\n",
    "            savedInputs.remove(row2)\n",
    "\n",
    "print(\"Remaining lists:\")\n",
    "savedInputsSTR = [repr(sublist) for sublist in savedInputs]\n",
    "\n",
    "# Filter the DataFrame based on matching sublists\n",
    "filtered_df = data[data['Inputs'].isin(savedInputsSTR)]\n",
    "filtered_df.reset_index(drop=True, inplace=True)\n",
    "print(filtered_df.shape)\n",
    "\n",
    "mean_mae = filtered_df['MAE'].mean()\n",
    "quart = filtered_df['MAE'].quantile(0.25)\n",
    "mask = filtered_df['MAE'] >= quart\n",
    "filtered_df = filtered_df[~mask]\n",
    "print(filtered_df.shape)\n",
    "filtered_df.to_csv(f\"Run_3_FERM\\Filtered_data.csv\", mode = 'w', index = False)\n",
    "\n"
   ]
  }
 ],
 "metadata": {
  "kernelspec": {
   "display_name": "Python 3",
   "language": "python",
   "name": "python3"
  },
  "language_info": {
   "codemirror_mode": {
    "name": "ipython",
    "version": 3
   },
   "file_extension": ".py",
   "mimetype": "text/x-python",
   "name": "python",
   "nbconvert_exporter": "python",
   "pygments_lexer": "ipython3",
   "version": "3.9.13"
  },
  "orig_nbformat": 4
 },
 "nbformat": 4,
 "nbformat_minor": 2
}
